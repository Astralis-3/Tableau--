{
 "cells": [
  {
   "cell_type": "code",
   "execution_count": 1,
   "metadata": {},
   "outputs": [],
   "source": [
    "import pandas as pd\n",
    "import numpy as np\n"
   ]
  },
  {
   "cell_type": "code",
   "execution_count": 2,
   "metadata": {},
   "outputs": [
    {
     "data": {
      "text/html": [
       "<div>\n",
       "<style scoped>\n",
       "    .dataframe tbody tr th:only-of-type {\n",
       "        vertical-align: middle;\n",
       "    }\n",
       "\n",
       "    .dataframe tbody tr th {\n",
       "        vertical-align: top;\n",
       "    }\n",
       "\n",
       "    .dataframe thead th {\n",
       "        text-align: right;\n",
       "    }\n",
       "</style>\n",
       "<table border=\"1\" class=\"dataframe\">\n",
       "  <thead>\n",
       "    <tr style=\"text-align: right;\">\n",
       "      <th></th>\n",
       "      <th>标题</th>\n",
       "      <th>标签</th>\n",
       "      <th>信息</th>\n",
       "      <th>关注</th>\n",
       "      <th>关键词</th>\n",
       "      <th>价格</th>\n",
       "      <th>价格1</th>\n",
       "      <th>价格2</th>\n",
       "    </tr>\n",
       "  </thead>\n",
       "  <tbody>\n",
       "    <tr>\n",
       "      <th>0</th>\n",
       "      <td>\\n                \\n                          ...</td>\n",
       "      <td>NaN</td>\n",
       "      <td>伟业上城2号院</td>\n",
       "      <td>\\n                \\n                0人关注\\n    ...</td>\n",
       "      <td>\\n                                            ...</td>\n",
       "      <td>108.5</td>\n",
       "      <td>万</td>\n",
       "      <td>12,306元/平</td>\n",
       "    </tr>\n",
       "    <tr>\n",
       "      <th>1</th>\n",
       "      <td>\\n                \\n                          ...</td>\n",
       "      <td>NaN</td>\n",
       "      <td>金地格林小城三期</td>\n",
       "      <td>\\n                \\n                1人关注\\n    ...</td>\n",
       "      <td>\\n                                            ...</td>\n",
       "      <td>71.0</td>\n",
       "      <td>万</td>\n",
       "      <td>6,194元/平</td>\n",
       "    </tr>\n",
       "    <tr>\n",
       "      <th>2</th>\n",
       "      <td>\\n                \\n                          ...</td>\n",
       "      <td>NaN</td>\n",
       "      <td>锦艺金水湾观澜苑</td>\n",
       "      <td>\\n                \\n                5人关注\\n    ...</td>\n",
       "      <td>\\n                                            ...</td>\n",
       "      <td>166.0</td>\n",
       "      <td>万</td>\n",
       "      <td>13,922元/平</td>\n",
       "    </tr>\n",
       "    <tr>\n",
       "      <th>3</th>\n",
       "      <td>\\n                \\n                          ...</td>\n",
       "      <td>NaN</td>\n",
       "      <td>正商新蓝钻E区</td>\n",
       "      <td>\\n                \\n                1人关注\\n    ...</td>\n",
       "      <td>\\n                                            ...</td>\n",
       "      <td>120.0</td>\n",
       "      <td>万</td>\n",
       "      <td>14,458元/平</td>\n",
       "    </tr>\n",
       "    <tr>\n",
       "      <th>4</th>\n",
       "      <td>\\n                \\n                          ...</td>\n",
       "      <td>NaN</td>\n",
       "      <td>曙光苑</td>\n",
       "      <td>\\n                \\n                2人关注\\n    ...</td>\n",
       "      <td>\\n                近地铁                         ...</td>\n",
       "      <td>262.0</td>\n",
       "      <td>万</td>\n",
       "      <td>23,304元/平</td>\n",
       "    </tr>\n",
       "  </tbody>\n",
       "</table>\n",
       "</div>"
      ],
      "text/plain": [
       "                                                  标题   标签        信息  \\\n",
       "0  \\n                \\n                          ...  NaN   伟业上城2号院   \n",
       "1  \\n                \\n                          ...  NaN  金地格林小城三期   \n",
       "2  \\n                \\n                          ...  NaN  锦艺金水湾观澜苑   \n",
       "3  \\n                \\n                          ...  NaN   正商新蓝钻E区   \n",
       "4  \\n                \\n                          ...  NaN       曙光苑   \n",
       "\n",
       "                                                  关注  \\\n",
       "0  \\n                \\n                0人关注\\n    ...   \n",
       "1  \\n                \\n                1人关注\\n    ...   \n",
       "2  \\n                \\n                5人关注\\n    ...   \n",
       "3  \\n                \\n                1人关注\\n    ...   \n",
       "4  \\n                \\n                2人关注\\n    ...   \n",
       "\n",
       "                                                 关键词     价格 价格1        价格2  \n",
       "0  \\n                                            ...  108.5   万  12,306元/平  \n",
       "1  \\n                                            ...   71.0   万   6,194元/平  \n",
       "2  \\n                                            ...  166.0   万  13,922元/平  \n",
       "3  \\n                                            ...  120.0   万  14,458元/平  \n",
       "4  \\n                近地铁                         ...  262.0   万  23,304元/平  "
      ]
     },
     "execution_count": 2,
     "metadata": {},
     "output_type": "execute_result"
    }
   ],
   "source": [
    "df = pd.read_csv('郑州二手房.csv',encoding='utf-8')\n",
    "df.head()"
   ]
  },
  {
   "cell_type": "code",
   "execution_count": 3,
   "metadata": {},
   "outputs": [
    {
     "name": "stdout",
     "output_type": "stream",
     "text": [
      "<class 'pandas.core.frame.DataFrame'>\n",
      "RangeIndex: 3133 entries, 0 to 3132\n",
      "Data columns (total 8 columns):\n",
      " #   Column  Non-Null Count  Dtype  \n",
      "---  ------  --------------  -----  \n",
      " 0   标题      3033 non-null   object \n",
      " 1   标签      496 non-null    object \n",
      " 2   信息      3000 non-null   object \n",
      " 3   关注      3000 non-null   object \n",
      " 4   关键词     3000 non-null   object \n",
      " 5   价格      3000 non-null   float64\n",
      " 6   价格1     3000 non-null   object \n",
      " 7   价格2     3000 non-null   object \n",
      "dtypes: float64(1), object(7)\n",
      "memory usage: 195.9+ KB\n"
     ]
    }
   ],
   "source": [
    "df.info()"
   ]
  },
  {
   "cell_type": "code",
   "execution_count": 5,
   "metadata": {},
   "outputs": [],
   "source": [
    "#换行符/空格符去除\n",
    "df['标题']=df['标题'].astype(str).apply(lambda x:x.replace('\\n','').replace(' ','').replace('\\t',''))\n",
    "df['关注']=df['关注'].astype(str).apply(lambda x:x.replace('\\n','').replace(' ','').replace('\\t',''))\n",
    "df['关键词']=df['关键词'].astype(str).apply(lambda x:x.replace('\\n','').replace(' ','').replace('\\t',''))"
   ]
  },
  {
   "cell_type": "code",
   "execution_count": 8,
   "metadata": {},
   "outputs": [],
   "source": [
    "df.to_csv('cl郑州二手.csv')"
   ]
  },
  {
   "cell_type": "markdown",
   "metadata": {},
   "source": [
    "新房清理"
   ]
  },
  {
   "cell_type": "code",
   "execution_count": 11,
   "metadata": {},
   "outputs": [
    {
     "data": {
      "text/html": [
       "<div>\n",
       "<style scoped>\n",
       "    .dataframe tbody tr th:only-of-type {\n",
       "        vertical-align: middle;\n",
       "    }\n",
       "\n",
       "    .dataframe tbody tr th {\n",
       "        vertical-align: top;\n",
       "    }\n",
       "\n",
       "    .dataframe thead th {\n",
       "        text-align: right;\n",
       "    }\n",
       "</style>\n",
       "<table border=\"1\" class=\"dataframe\">\n",
       "  <thead>\n",
       "    <tr style=\"text-align: right;\">\n",
       "      <th></th>\n",
       "      <th>标题</th>\n",
       "      <th>标记</th>\n",
       "      <th>类型</th>\n",
       "      <th>名称</th>\n",
       "      <th>位置</th>\n",
       "      <th>resblockroom</th>\n",
       "      <th>area</th>\n",
       "      <th>resblockroom1</th>\n",
       "      <th>resblockroom2</th>\n",
       "      <th>resblockroom3</th>\n",
       "      <th>名称4</th>\n",
       "      <th>关键词</th>\n",
       "      <th>数量</th>\n",
       "      <th>描述</th>\n",
       "      <th>second</th>\n",
       "    </tr>\n",
       "  </thead>\n",
       "  <tbody>\n",
       "    <tr>\n",
       "      <th>0</th>\n",
       "      <td>龙湖熙上</td>\n",
       "      <td>效果图</td>\n",
       "      <td>在售</td>\n",
       "      <td>住宅</td>\n",
       "      <td>\\n\\t\\t\\t管城回族区/橄榄城/文德路鼎瑞街龙湖熙上\\n\\t\\t</td>\n",
       "      <td>3室</td>\n",
       "      <td>建面 94-117㎡</td>\n",
       "      <td>建面 94-117㎡</td>\n",
       "      <td>NaN</td>\n",
       "      <td>NaN</td>\n",
       "      <td>新房顾问：赵海洋</td>\n",
       "      <td>\\n\\t\\t\\t\\t\\t\\t\\t\\t\\t\\t低总价\\n\\t\\t\\t\\t\\t\\t\\t品牌房企\\...</td>\n",
       "      <td>12200</td>\n",
       "      <td>元/㎡(均价)</td>\n",
       "      <td>总价125-145(万/套)</td>\n",
       "    </tr>\n",
       "    <tr>\n",
       "      <th>1</th>\n",
       "      <td>华润琨瑜府</td>\n",
       "      <td>效果图</td>\n",
       "      <td>在售</td>\n",
       "      <td>住宅</td>\n",
       "      <td>\\n\\t\\t\\t中原区/五龙口/金水西路沿线（嵩山路-秦岭路之间)\\n\\t\\t</td>\n",
       "      <td>1室</td>\n",
       "      <td>建面 46-166㎡</td>\n",
       "      <td>2室</td>\n",
       "      <td>3室</td>\n",
       "      <td>4室</td>\n",
       "      <td>新房顾问：赵海洋</td>\n",
       "      <td>\\n\\t\\t\\t\\t\\t\\t\\t\\t\\t\\t地铁沿线\\n\\t\\t\\t\\t\\t\\t\\t近主干道...</td>\n",
       "      <td>15000</td>\n",
       "      <td>元/㎡(均价)</td>\n",
       "      <td>总价59-245(万/套)</td>\n",
       "    </tr>\n",
       "  </tbody>\n",
       "</table>\n",
       "</div>"
      ],
      "text/plain": [
       "      标题   标记  类型  名称                                       位置 resblockroom  \\\n",
       "0   龙湖熙上  效果图  在售  住宅       \\n\\t\\t\\t管城回族区/橄榄城/文德路鼎瑞街龙湖熙上\\n\\t\\t           3室   \n",
       "1  华润琨瑜府  效果图  在售  住宅  \\n\\t\\t\\t中原区/五龙口/金水西路沿线（嵩山路-秦岭路之间)\\n\\t\\t           1室   \n",
       "\n",
       "         area resblockroom1 resblockroom2 resblockroom3       名称4  \\\n",
       "0  建面 94-117㎡    建面 94-117㎡           NaN           NaN  新房顾问：赵海洋   \n",
       "1  建面 46-166㎡            2室            3室            4室  新房顾问：赵海洋   \n",
       "\n",
       "                                                 关键词     数量        描述  \\\n",
       "0  \\n\\t\\t\\t\\t\\t\\t\\t\\t\\t\\t低总价\\n\\t\\t\\t\\t\\t\\t\\t品牌房企\\...  12200   元/㎡(均价)   \n",
       "1  \\n\\t\\t\\t\\t\\t\\t\\t\\t\\t\\t地铁沿线\\n\\t\\t\\t\\t\\t\\t\\t近主干道...  15000   元/㎡(均价)   \n",
       "\n",
       "           second  \n",
       "0  总价125-145(万/套)  \n",
       "1   总价59-245(万/套)  "
      ]
     },
     "execution_count": 11,
     "metadata": {},
     "output_type": "execute_result"
    }
   ],
   "source": [
    "df = pd.read_csv('郑州新房.csv',encoding='utf-8')\n",
    "df.head(2)"
   ]
  },
  {
   "cell_type": "code",
   "execution_count": 18,
   "metadata": {},
   "outputs": [],
   "source": [
    "#df['关注']=df['关注'].astype(str).apply(lambda x:x.replace('\\n','').replace(' ','').replace('\\t',''))\n",
    "df['关键词']=df['关键词'].astype(str).apply(lambda x:x.replace('\\n','').replace(' ','').replace('\\t',''))\n",
    "df['位置']=df['位置'].astype(str).apply(lambda x:x.replace('\\n','').replace(' ','').replace('\\t',''))\n",
    "df.to_csv('cl郑州新房.csv')"
   ]
  },
  {
   "cell_type": "code",
   "execution_count": 25,
   "metadata": {},
   "outputs": [],
   "source": [
    "df = pd.read_csv('郑州租房.csv',encoding='utf-8',usecols=[0,1,2,3,4,5,6,7,8,9,10,11,12])\n",
    "\n",
    "df['关键词']=df['关键词'].astype(str).apply(lambda x:x.replace('\\n','').replace(' ','').replace('\\t',''))\n",
    "df['位置']=df['位置'].astype(str).apply(lambda x:x.replace('\\n','').replace(' ','').replace('\\t',''))\n",
    "df.to_csv('cl郑州租房.csv')"
   ]
  },
  {
   "cell_type": "code",
   "execution_count": null,
   "metadata": {},
   "outputs": [],
   "source": []
  }
 ],
 "metadata": {
  "kernelspec": {
   "display_name": "Python 3",
   "language": "python",
   "name": "python3"
  },
  "language_info": {
   "codemirror_mode": {
    "name": "ipython",
    "version": 3
   },
   "file_extension": ".py",
   "mimetype": "text/x-python",
   "name": "python",
   "nbconvert_exporter": "python",
   "pygments_lexer": "ipython3",
   "version": "3.8.5"
  }
 },
 "nbformat": 4,
 "nbformat_minor": 4
}
